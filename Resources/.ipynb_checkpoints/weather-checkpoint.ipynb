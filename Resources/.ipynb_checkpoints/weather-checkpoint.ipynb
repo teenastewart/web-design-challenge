{
 "cells": [
  {
   "cell_type": "code",
   "execution_count": 1,
   "metadata": {},
   "outputs": [],
   "source": [
    "import pandas as pd\n",
    "import csv"
   ]
  },
  {
   "cell_type": "code",
   "execution_count": 2,
   "metadata": {},
   "outputs": [
    {
     "data": {
      "text/html": [
       "<div>\n",
       "<style scoped>\n",
       "    .dataframe tbody tr th:only-of-type {\n",
       "        vertical-align: middle;\n",
       "    }\n",
       "\n",
       "    .dataframe tbody tr th {\n",
       "        vertical-align: top;\n",
       "    }\n",
       "\n",
       "    .dataframe thead th {\n",
       "        text-align: right;\n",
       "    }\n",
       "</style>\n",
       "<table border=\"1\" class=\"dataframe\">\n",
       "  <thead>\n",
       "    <tr style=\"text-align: right;\">\n",
       "      <th></th>\n",
       "      <th>city</th>\n",
       "      <th>country</th>\n",
       "      <th>lat</th>\n",
       "      <th>lng</th>\n",
       "      <th>max_temp</th>\n",
       "      <th>humidity</th>\n",
       "      <th>cloudiness</th>\n",
       "      <th>wind_speed</th>\n",
       "      <th>date</th>\n",
       "    </tr>\n",
       "  </thead>\n",
       "  <tbody>\n",
       "    <tr>\n",
       "      <th>0</th>\n",
       "      <td>Susanville</td>\n",
       "      <td>US</td>\n",
       "      <td>40.4163</td>\n",
       "      <td>-120.6530</td>\n",
       "      <td>71.60</td>\n",
       "      <td>6</td>\n",
       "      <td>1</td>\n",
       "      <td>3.44</td>\n",
       "      <td>1619655810</td>\n",
       "    </tr>\n",
       "    <tr>\n",
       "      <th>1</th>\n",
       "      <td>Port Alfred</td>\n",
       "      <td>ZA</td>\n",
       "      <td>-33.5906</td>\n",
       "      <td>26.8910</td>\n",
       "      <td>66.22</td>\n",
       "      <td>79</td>\n",
       "      <td>98</td>\n",
       "      <td>8.48</td>\n",
       "      <td>1619655836</td>\n",
       "    </tr>\n",
       "    <tr>\n",
       "      <th>2</th>\n",
       "      <td>Rikitea</td>\n",
       "      <td>PF</td>\n",
       "      <td>-23.1203</td>\n",
       "      <td>-134.9692</td>\n",
       "      <td>76.06</td>\n",
       "      <td>66</td>\n",
       "      <td>41</td>\n",
       "      <td>10.02</td>\n",
       "      <td>1619655836</td>\n",
       "    </tr>\n",
       "    <tr>\n",
       "      <th>3</th>\n",
       "      <td>Korgen</td>\n",
       "      <td>NO</td>\n",
       "      <td>66.0771</td>\n",
       "      <td>13.8153</td>\n",
       "      <td>35.01</td>\n",
       "      <td>73</td>\n",
       "      <td>91</td>\n",
       "      <td>2.15</td>\n",
       "      <td>1619655836</td>\n",
       "    </tr>\n",
       "    <tr>\n",
       "      <th>4</th>\n",
       "      <td>Albany</td>\n",
       "      <td>US</td>\n",
       "      <td>42.6001</td>\n",
       "      <td>-73.9662</td>\n",
       "      <td>57.99</td>\n",
       "      <td>86</td>\n",
       "      <td>96</td>\n",
       "      <td>2.82</td>\n",
       "      <td>1619655837</td>\n",
       "    </tr>\n",
       "  </tbody>\n",
       "</table>\n",
       "</div>"
      ],
      "text/plain": [
       "          city country      lat       lng  max_temp  humidity  cloudiness  \\\n",
       "0   Susanville      US  40.4163 -120.6530     71.60         6           1   \n",
       "1  Port Alfred      ZA -33.5906   26.8910     66.22        79          98   \n",
       "2      Rikitea      PF -23.1203 -134.9692     76.06        66          41   \n",
       "3       Korgen      NO  66.0771   13.8153     35.01        73          91   \n",
       "4       Albany      US  42.6001  -73.9662     57.99        86          96   \n",
       "\n",
       "   wind_speed        date  \n",
       "0        3.44  1619655810  \n",
       "1        8.48  1619655836  \n",
       "2       10.02  1619655836  \n",
       "3        2.15  1619655836  \n",
       "4        2.82  1619655837  "
      ]
     },
     "execution_count": 2,
     "metadata": {},
     "output_type": "execute_result"
    }
   ],
   "source": [
    "weather = \"weather_data.csv\"\n",
    "weather_df = pd.read_csv(weather)\n",
    "weather_df.head()"
   ]
  },
  {
   "cell_type": "code",
   "execution_count": 5,
   "metadata": {
    "scrolled": false
   },
   "outputs": [],
   "source": [
    "weather_df.to_html('weather.html', header=True, index=True, )"
   ]
  }
 ],
 "metadata": {
  "kernelspec": {
   "display_name": "Python 3",
   "language": "python",
   "name": "python3"
  },
  "language_info": {
   "codemirror_mode": {
    "name": "ipython",
    "version": 3
   },
   "file_extension": ".py",
   "mimetype": "text/x-python",
   "name": "python",
   "nbconvert_exporter": "python",
   "pygments_lexer": "ipython3",
   "version": "3.8.5"
  }
 },
 "nbformat": 4,
 "nbformat_minor": 4
}
